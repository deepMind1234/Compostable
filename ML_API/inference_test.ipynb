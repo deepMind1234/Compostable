{
 "cells": [
  {
   "cell_type": "markdown",
   "metadata": {},
   "source": [
    "# Example ML API Inference Calls"
   ]
  },
  {
   "cell_type": "code",
   "execution_count": 2,
   "metadata": {},
   "outputs": [],
   "source": [
    "import requests, os"
   ]
  },
  {
   "cell_type": "code",
   "execution_count": 3,
   "metadata": {},
   "outputs": [
    {
     "name": "stdout",
     "output_type": "stream",
     "text": [
      "{'class_id': 0, 'class_name': 'Non-Recyclable'}\n"
     ]
    }
   ],
   "source": [
    "img = os.path.join('sample_images', 'coke_bottle.jpg')\n",
    "\n",
    "resp = requests.post(\"http://localhost:5000/predict\",\n",
    "                     files={\"file\": open(img,'rb')})\n",
    "print(resp.json())\n"
   ]
  },
  {
   "cell_type": "code",
   "execution_count": 6,
   "metadata": {},
   "outputs": [
    {
     "name": "stdout",
     "output_type": "stream",
     "text": [
      "{'class_id': 1, 'class_name': 'Organic'}\n"
     ]
    }
   ],
   "source": [
    "img = os.path.join('sample_images', 'carrots.jpg')\n",
    "resp = requests.post(\"http://localhost:5000/predict\",\n",
    "                     files={\"file\": open(img,'rb')})\n",
    "print(resp.json())"
   ]
  },
  {
   "cell_type": "code",
   "execution_count": 7,
   "metadata": {},
   "outputs": [
    {
     "name": "stdout",
     "output_type": "stream",
     "text": [
      "{'class_id': 2, 'class_name': 'Recyclable'}\n"
     ]
    }
   ],
   "source": [
    "img = os.path.join('sample_images', 'napkins.jpg')\n",
    "resp = requests.post(\"http://localhost:5000/predict\",\n",
    "                     files={\"file\": open(img,'rb')})\n",
    "print(resp.json())"
   ]
  }
 ],
 "metadata": {
  "interpreter": {
   "hash": "a8f24ec4b6d6beabd96503bc608d0a309a2b6f25b62bb46f653e86555b93687d"
  },
  "kernelspec": {
   "display_name": "Python 3.9.7 ('compost_env')",
   "language": "python",
   "name": "python3"
  },
  "language_info": {
   "codemirror_mode": {
    "name": "ipython",
    "version": 3
   },
   "file_extension": ".py",
   "mimetype": "text/x-python",
   "name": "python",
   "nbconvert_exporter": "python",
   "pygments_lexer": "ipython3",
   "version": "3.9.7"
  },
  "orig_nbformat": 4
 },
 "nbformat": 4,
 "nbformat_minor": 2
}
